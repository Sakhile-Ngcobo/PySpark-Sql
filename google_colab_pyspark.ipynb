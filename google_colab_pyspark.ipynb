{
  "cells": [
    {
      "cell_type": "markdown",
      "metadata": {
        "id": "view-in-github",
        "colab_type": "text"
      },
      "source": [
        "<a href=\"https://colab.research.google.com/github/Sakhile-Ngcobo/PySpark-Sql/blob/main/google_colab_pyspark.ipynb\" target=\"_parent\"><img src=\"https://colab.research.google.com/assets/colab-badge.svg\" alt=\"Open In Colab\"/></a>"
      ]
    },
    {
      "cell_type": "markdown",
      "metadata": {
        "id": "YlG1OS9cA7Si"
      },
      "source": [
        "[This notebook follows the tutorial for the configuration and setup of PySpark](https://www.youtube.com/watch?v=WkqFPxVgsqI)"
      ]
    },
    {
      "cell_type": "markdown",
      "metadata": {
        "id": "zkCI8EG5C4W6"
      },
      "source": [
        "PySpark is the Python API for Apache Spark. It enables users to perform real-time, large-scale data processing in a distributed environment using Python. PySpark combines Python’s learnability and ease of use with the power of Apache Spark to enable processing and analysis of data at any size for everyone familiar with Python. PySpark supports all of Spark’s features such as Spark SQL, DataFrames, Structured Streaming, Machine Learning (MLlib) and Spark Core."
      ]
    },
    {
      "cell_type": "markdown",
      "metadata": {
        "id": "MU-t0SJvAsaI"
      },
      "source": [
        "Installing PySpark"
      ]
    },
    {
      "cell_type": "code",
      "execution_count": null,
      "metadata": {
        "colab": {
          "base_uri": "https://localhost:8080/"
        },
        "id": "hBR8qdFKAmaR",
        "outputId": "0bab7961-aa1a-4120-e129-fc609510cc43"
      },
      "outputs": [
        {
          "output_type": "stream",
          "name": "stdout",
          "text": [
            "openjdk version \"11.0.28\" 2025-07-15\n",
            "OpenJDK Runtime Environment (build 11.0.28+6-post-Ubuntu-1ubuntu122.04.1)\n",
            "OpenJDK 64-Bit Server VM (build 11.0.28+6-post-Ubuntu-1ubuntu122.04.1, mixed mode, sharing)\n"
          ]
        }
      ],
      "source": [
        "!java -version"
      ]
    },
    {
      "cell_type": "code",
      "execution_count": null,
      "metadata": {
        "colab": {
          "base_uri": "https://localhost:8080/"
        },
        "id": "eBSB147jAwQs",
        "outputId": "602a9943-3d29-4670-b822-044d7711c651"
      },
      "outputs": [
        {
          "output_type": "stream",
          "name": "stdout",
          "text": [
            "Requirement already satisfied: pyspark in /usr/local/lib/python3.12/dist-packages (3.5.1)\n",
            "Requirement already satisfied: py4j==0.10.9.7 in /usr/local/lib/python3.12/dist-packages (from pyspark) (0.10.9.7)\n"
          ]
        }
      ],
      "source": [
        "!pip install pyspark"
      ]
    },
    {
      "cell_type": "code",
      "execution_count": null,
      "metadata": {
        "id": "57pGjgz3BBau"
      },
      "outputs": [],
      "source": [
        "import os\n",
        "import pandas as pd\n",
        "from pyspark.sql import SparkSession\n",
        "from pyspark.sql.types import StructType,StructField, IntegerType, StringType, DoubleType,LongType, TimestampType"
      ]
    },
    {
      "cell_type": "markdown",
      "metadata": {
        "id": "nBbyFaucBE_f"
      },
      "source": [
        "Working with PySpark"
      ]
    },
    {
      "cell_type": "markdown",
      "metadata": {
        "id": "pYsgRhySBvzB"
      },
      "source": [
        "Download Dataset"
      ]
    },
    {
      "cell_type": "code",
      "execution_count": null,
      "metadata": {
        "colab": {
          "base_uri": "https://localhost:8080/"
        },
        "id": "T87TE70LBzYU",
        "outputId": "04b6b44c-a514-40c4-fa0a-d70a0ac29f8e"
      },
      "outputs": [
        {
          "output_type": "stream",
          "name": "stdout",
          "text": [
            "  % Total    % Received % Xferd  Average Speed   Time    Time     Time  Current\n",
            "                                 Dload  Upload   Total   Spent    Left  Speed\n",
            "100   284  100   284    0     0    914      0 --:--:-- --:--:-- --:--:--   916\n",
            "\n",
            "gzip: Automotive.jsonl.gz: not in gzip format\n"
          ]
        }
      ],
      "source": [
        "!curl -O https://datarepo.eng.ucsd.edu/mcauley_group/data/amazon_2023/raw/review_categories/Automotive.jsonl.gz\n",
        "!gunzip -f Automotive.jsonl.gz"
      ]
    },
    {
      "cell_type": "code",
      "execution_count": null,
      "metadata": {
        "colab": {
          "base_uri": "https://localhost:8080/"
        },
        "id": "631a4921",
        "outputId": "074496f2-d464-48fe-ea64-e1760b4d63a1"
      },
      "outputs": [
        {
          "output_type": "stream",
          "name": "stdout",
          "text": [
            "--2025-09-16 07:30:21--  https://datarepo.eng.ucsd.edu/mcauley_group/data/amazon_2023/raw/review_categories/Automotive.jsonl.gz\n",
            "Resolving datarepo.eng.ucsd.edu (datarepo.eng.ucsd.edu)... 132.239.8.30\n",
            "Connecting to datarepo.eng.ucsd.edu (datarepo.eng.ucsd.edu)|132.239.8.30|:443... connected.\n",
            "HTTP request sent, awaiting response... 404 Not Found\n",
            "2025-09-16 07:30:22 ERROR 404: Not Found.\n",
            "\n",
            "\n",
            "gzip: Automotive.jsonl.gz: not in gzip format\n"
          ]
        }
      ],
      "source": [
        "!wget https://datarepo.eng.ucsd.edu/mcauley_group/data/amazon_2023/raw/review_categories/Automotive.jsonl.gz\n",
        "!gunzip -f Automotive.jsonl.gz"
      ]
    },
    {
      "cell_type": "code",
      "execution_count": 2,
      "metadata": {
        "colab": {
          "base_uri": "https://localhost:8080/",
          "height": 35
        },
        "id": "iBgcI7JAGAPj",
        "outputId": "3c9080b2-5316-4f41-c2a9-fcff8de347ba"
      },
      "outputs": [
        {
          "output_type": "execute_result",
          "data": {
            "text/plain": [
              "'\\n!wget https://cseweb.ucsd.edu/~jmcauley/datasets.html\\n!cat datasets.html\\n'"
            ],
            "application/vnd.google.colaboratory.intrinsic+json": {
              "type": "string"
            }
          },
          "metadata": {},
          "execution_count": 2
        }
      ],
      "source": [
        "\"\"\"\n",
        "!wget https://cseweb.ucsd.edu/~jmcauley/datasets.html\n",
        "!cat datasets.html\n",
        "\"\"\""
      ]
    },
    {
      "cell_type": "code",
      "execution_count": null,
      "metadata": {
        "colab": {
          "base_uri": "https://localhost:8080/"
        },
        "id": "14184297",
        "outputId": "3fb04db5-da6a-45e8-c32b-3007952ef926"
      },
      "outputs": [
        {
          "output_type": "stream",
          "name": "stdout",
          "text": [
            "--2025-09-16 07:30:23--  https://mcauleylab.ucsd.edu/public_datasets/data/beer/beeradvocate.json.gz\n",
            "Resolving mcauleylab.ucsd.edu (mcauleylab.ucsd.edu)... 169.228.63.88\n",
            "Connecting to mcauleylab.ucsd.edu (mcauleylab.ucsd.edu)|169.228.63.88|:443... connected.\n",
            "HTTP request sent, awaiting response... 200 OK\n",
            "Length: 448628940 (428M) [application/gzip]\n",
            "Saving to: ‘beeradvocate.json.gz’\n",
            "\n",
            "beeradvocate.json.g 100%[===================>] 427.85M  43.9MB/s    in 11s     \n",
            "\n",
            "2025-09-16 07:30:34 (40.4 MB/s) - ‘beeradvocate.json.gz’ saved [448628940/448628940]\n",
            "\n"
          ]
        }
      ],
      "source": [
        "!wget https://mcauleylab.ucsd.edu/public_datasets/data/beer/beeradvocate.json.gz\n",
        "!gunzip -f beeradvocate.json.gz"
      ]
    },
    {
      "cell_type": "code",
      "execution_count": null,
      "metadata": {
        "colab": {
          "base_uri": "https://localhost:8080/"
        },
        "id": "KWAFIBr-C9O2",
        "outputId": "defda227-992f-4594-b89d-8cfa7235f1e3"
      },
      "outputs": [
        {
          "output_type": "stream",
          "name": "stdout",
          "text": [
            "The size of the Beer Advocate dataset is: 1.54 GB\n"
          ]
        }
      ],
      "source": [
        "print(f'The size of the Beer Advocate dataset is: {os.path.getsize(\"/content/beeradvocate.json\") / (1024 ** 3):.2f} GB')"
      ]
    },
    {
      "cell_type": "markdown",
      "metadata": {
        "id": "MxArV6S3INAQ"
      },
      "source": [
        "*Initializing a SparkSession*\n",
        "\n",
        "A SparkSession is a class from the PySpark module. It is the entrypoint to working with Apache Spark. This will allow us to create a PySpark DataFrame\n",
        "\n"
      ]
    },
    {
      "cell_type": "code",
      "execution_count": null,
      "metadata": {
        "colab": {
          "base_uri": "https://localhost:8080/"
        },
        "id": "f7vtrwIpITKV",
        "outputId": "bb0ca9d0-1b5c-4664-dfca-bcc6d9dc7d3c"
      },
      "outputs": [
        {
          "output_type": "stream",
          "name": "stdout",
          "text": [
            "The SPark version is 3.5.1\n"
          ]
        }
      ],
      "source": [
        "spark =SparkSession.builder.appName('BeerData').getOrCreate()\n",
        "print(f'The SPark version is {spark.version}')"
      ]
    },
    {
      "cell_type": "markdown",
      "metadata": {
        "id": "iOw0wiy3JBuQ"
      },
      "source": [
        "Reading in the Data"
      ]
    },
    {
      "cell_type": "markdown",
      "metadata": {
        "id": "1KR0cDQEJIjB"
      },
      "source": [
        "Pandas"
      ]
    },
    {
      "cell_type": "code",
      "execution_count": null,
      "metadata": {
        "colab": {
          "base_uri": "https://localhost:8080/",
          "height": 35
        },
        "id": "4SUiri_lJEC4",
        "outputId": "209a3739-397a-4fd7-ba6b-010791a41187"
      },
      "outputs": [
        {
          "output_type": "execute_result",
          "data": {
            "text/plain": [
              "\"\\npandas_df = pd.read_json('/content/beeradvocate.json', lines=True)\\npandas_df.head()\\n\""
            ],
            "application/vnd.google.colaboratory.intrinsic+json": {
              "type": "string"
            }
          },
          "metadata": {},
          "execution_count": 58
        }
      ],
      "source": [
        "'''\n",
        "pandas_df = pd.read_json('/content/beeradvocate.json', lines=True)\n",
        "pandas_df.head()\n",
        "'''\n",
        "#Data too large to be read in using pandas, session crashed"
      ]
    },
    {
      "cell_type": "markdown",
      "metadata": {
        "id": "Nvvzh2XPJest"
      },
      "source": [
        "PySpark\n",
        "\n",
        "Using a Schema for a PySpark DataFrame\n",
        "Within Apache Spark a schema provides the data format for a DataFrame or a Dataset.\n",
        "\n",
        "For our schema, we will first set our StructType which is a set of StructFields. A StructField contains information for a given column including the column name (name), the type of data within the rows (dataType) and whether or not the row can contain a null value (nullable)."
      ]
    },
    {
      "cell_type": "code",
      "execution_count": null,
      "metadata": {
        "colab": {
          "base_uri": "https://localhost:8080/"
        },
        "id": "65d1433a",
        "outputId": "d8e1e9a6-c79e-46b3-854e-bb39bf8860ce"
      },
      "outputs": [
        {
          "output_type": "stream",
          "name": "stdout",
          "text": [
            "{'beer/name': 'Sausa Weizen', 'beer/beerId': '47986', 'beer/brewerId': '10325', 'beer/ABV': '5.00', 'beer/style': 'Hefeweizen', 'review/appearance': '2.5', 'review/aroma': '2', 'review/palate': '1.5', 'review/taste': '1.5', 'review/overall': '1.5', 'review/time': '1234817823', 'review/profileName': 'stcules', 'review/text': 'A lot of foam. But a lot.\\tIn the smell some banana, and then lactic and tart. Not a good start.\\tQuite dark orange in color, with a lively carbonation (now visible, under the foam).\\tAgain tending to lactic sourness.\\tSame for the taste. With some yeast and banana.'}\n",
            "{'beer/name': 'Red Moon', 'beer/beerId': '48213', 'beer/brewerId': '10325', 'beer/ABV': '6.20', 'beer/style': 'English Strong Ale', 'review/appearance': '3', 'review/aroma': '2.5', 'review/palate': '3', 'review/taste': '3', 'review/overall': '3', 'review/time': '1235915097', 'review/profileName': 'stcules', 'review/text': 'Dark red color, light beige foam, average.\\tIn the smell malt and caramel, not really light.\\tAgain malt and caramel in the taste, not bad in the end.\\tMaybe a note of honey in teh back, and a light fruitiness.\\tAverage body.\\tIn the aftertaste a light bitterness, with the malt and red fruit.\\tNothing exceptional, but not bad, drinkable beer.'}\n",
            "{'beer/name': 'Black Horse Black Beer', 'beer/beerId': '48215', 'beer/brewerId': '10325', 'beer/ABV': '6.50', 'beer/style': 'Foreign / Export Stout', 'review/appearance': '3', 'review/aroma': '2.5', 'review/palate': '3', 'review/taste': '3', 'review/overall': '3', 'review/time': '1235916604', 'review/profileName': 'stcules', 'review/text': 'Almost totally black. Beige foam, quite compact, not bad.\\tLight smell, just a bit of roast, and some hop. A bit too light.\\tThe taste is light oo, and drinkable, with some malt, roast, hints of coffee.\\tNothing exceptional, but after all drinkable and pleasant.\\tLight to average body.\\tIn the aftertaste some dust, somr roast, hint of caramel, and a bit of bitterness.\\tNo defect, drinkable, not bad.'}\n",
            "{'beer/name': 'Sausa Pils', 'beer/beerId': '47969', 'beer/brewerId': '10325', 'beer/ABV': '5.00', 'beer/style': 'German Pilsener', 'review/appearance': '3.5', 'review/aroma': '3', 'review/palate': '2.5', 'review/taste': '3', 'review/overall': '3', 'review/time': '1234725145', 'review/profileName': 'stcules', 'review/text': 'Golden yellow color. White, compact foam, quite creamy. Good appearance.\\tFresh smell, with good hop. Quite dry, with a good grassy note. Hay. Fresh and pleasant.\\tMore sweet in the mouth, with honey. The hop comes back in the end, and in the aftertaste.\\tNot bad, but a bit too sweet for a pils.\\tIn the end some vanilla and camomile note.\\tIn the aftertaste, too. Though the hop, a bit too sweet.\\tHonest.'}\n",
            "{'beer/name': 'Cauldron DIPA', 'beer/beerId': '64883', 'beer/brewerId': '1075', 'beer/ABV': '7.70', 'beer/style': 'American Double / Imperial IPA', 'review/appearance': '4', 'review/aroma': '4.5', 'review/palate': '4', 'review/taste': '4.5', 'review/overall': '4', 'review/time': '1293735206', 'review/profileName': 'johnmichaelsen', 'review/text': \"According to the website, the style for the Caldera Cauldron changes every year. The current release is a DIPA, which frankly is the only cauldron I'm familiar with (it was an IPA/DIPA the last time I ordered a cauldron at the horsebrass several years back). In any event... at the Horse Brass yesterday.\\t\\tThe beer pours an orange copper color with good head retention and lacing. The nose is all hoppy IPA goodness, showcasing a huge aroma of dry citrus, pine and sandlewood. The flavor profile replicates the nose pretty closely in this West Coast all the way DIPA. This DIPA is not for the faint of heart and is a bit much even for a hophead like myslf. The finish is quite dry and hoppy, and there's barely enough sweet malt to balance and hold up the avalanche of hoppy bitterness in this beer. Mouthfeel is actually fairly light, with a long, persistentely bitter finish. Drinkability is good, with the alcohol barely noticeable in this well crafted beer. Still, this beer is so hugely hoppy/bitter, it's really hard for me to imagine ordering more than a single glass. Regardless, this is a very impressive beer from the folks at Caldera.\"}\n",
            "{'beer/name': 'Caldera Ginger Beer', 'beer/beerId': '52159', 'beer/brewerId': '1075', 'beer/ABV': '4.70', 'beer/style': 'Herbed / Spiced Beer', 'review/appearance': '3.5', 'review/aroma': '3.5', 'review/palate': '3', 'review/taste': '3.5', 'review/overall': '3', 'review/time': '1325524659', 'review/profileName': 'oline73', 'review/text': \"Poured from the bottle into a Chimay goblet.\\t\\tAppearance: Pours a slightly cloudy yellow/orange color with a half finger of fluffy white head. The head fades to a small layer on top of the pour.\\t\\tSmell: Very light and crisp. I'm definitely picking up the ginger, but it's not overly powerful. There is a slight sweetness from the malt as well.\\t\\tTaste: Very light and refreshing. The ginger shows up right away and then fades towards the finish of the sip. The finish is malty and bread like. \\t\\tMouthfeel: The body is on the thin side with smooth carbonation and a very dry finish.\\t\\tOverall: This is a light and refreshing beer, but nothing spectacular. The amount of ginger is nice, but I would have liked to have more going on.\"}\n",
            "{'beer/name': 'Caldera Ginger Beer', 'beer/beerId': '52159', 'beer/brewerId': '1075', 'beer/ABV': '4.70', 'beer/style': 'Herbed / Spiced Beer', 'review/appearance': '3.5', 'review/aroma': '3.5', 'review/palate': '4', 'review/taste': '4', 'review/overall': '3.5', 'review/time': '1318991115', 'review/profileName': 'Reidrover', 'review/text': '22 oz bottle from \"Lifesource\" Salem. $3.95 Nice golden clear beer body with a nice sized frothy/creamy white head. Ok aromas..mainlly a bit of ginger speice and some bready malt..simple nice Taste very nice indeed..nice spicy ginger backed with slightly caramel maltiness..simple again but i like . Liked the mouthfeel of this one..very forward carbonation which helps the ginger effect and a lingering ginger in the after taste. Overall a simple ginger brew .I liked it'}\n",
            "{'beer/name': 'Caldera Ginger Beer', 'beer/beerId': '52159', 'beer/brewerId': '1075', 'beer/ABV': '4.70', 'beer/style': 'Herbed / Spiced Beer', 'review/appearance': '3.5', 'review/aroma': '2.5', 'review/palate': '2', 'review/taste': '3.5', 'review/overall': '3', 'review/time': '1306276018', 'review/profileName': 'alpinebryant', 'review/text': 'Bottle says \"Malt beverage brewed with Ginger and ginger added\" Sounds redundant to me, but lets move on.\\t\\tPours a bud light yellow with a tiny white head of small bubbles. The beer is almost as clear as a glass of water with some food coloring in it.\\t\\tAroma of light ginger, a very light malt aroma but primarily odorless on the malt side. I wouldn\\'t be completely surprised if there were some adjuncts in here because of the lack of underlying malt flavors. Taste is of a light adjunct lager with a dosing of ginger. Not surprising there. \\t\\tThis is a light session beer, good for the warmer days of spring / summer. Mouthfeel is extremely light, high carbonation.\\t\\tOverall decent. This would be great if you were drinking beers on draft at the bar with some friends just hanging out. I wouldn\\'t necessarily seek it out though to drink out of a bottle.'}\n",
            "{'beer/name': 'Caldera Ginger Beer', 'beer/beerId': '52159', 'beer/brewerId': '1075', 'beer/ABV': '4.70', 'beer/style': 'Herbed / Spiced Beer', 'review/appearance': '3.5', 'review/aroma': '3', 'review/palate': '3.5', 'review/taste': '4', 'review/overall': '4', 'review/time': '1290454503', 'review/profileName': 'LordAdmNelson', 'review/text': \"I'm not sure why I picked this up... I like ginger, and it was reasonably cheap compared to the other beers I was looking at. Pours a pale golden color with smallish head. Nose is largely uneventful, some ginger in there, a bit of pear, but mainly normal lager. Taste is pretty good, bringing a bit more of the ginger to the fore. MF was a bit fizzy, not terrible though. Easy drinker, I had no problem finishing the bomber. Interesting, but I probably won't get it again.\"}\n",
            "{'beer/name': 'Caldera Ginger Beer', 'beer/beerId': '52159', 'beer/brewerId': '1075', 'beer/ABV': '4.70', 'beer/style': 'Herbed / Spiced Beer', 'review/appearance': '5', 'review/aroma': '3.5', 'review/palate': '4', 'review/taste': '4', 'review/overall': '4.5', 'review/time': '1285632924', 'review/profileName': 'augustgarage', 'review/text': 'Poured from a 22oz bomber into my Drie Fonteinen tumbler. \\t\\tHazy titanium yellow body (which catches the shadows forming a beautiful mysterious gradient) with an incredibly dense pillow of magnolia cream. Heavy persistent head and rich creamy lacing.\\t\\tPale malt, asian pear, and a hint of citrus in the nose. A vaguely tropical lager...\\t\\tTastes very much like a well done APA, with a nice balance of pale malt and low hop bitterness. The ginger adds to the refreshing character, but isn\\'t readily detectable at first (lacks any \"bite\"). Medium-dry finish - very clean and extremely quaffable. I can imagine hibiscus and beets working in small quantities, though I think they omitted those for this version...\\t\\tLight bodied, pillowy, smooth and moderately carbonated.\\t\\tDon\\'t go into this expecting a ginger beer (despite its name) as it has little in common with that spicy soft drink. This is a wonderful session ale though, and worth seeking out if you are a fan of light yet flavorful lagers. Would obviously go perfectly with sushi.'}\n"
          ]
        }
      ],
      "source": [
        "!head /content/beeradvocate.json"
      ]
    },
    {
      "cell_type": "code",
      "execution_count": null,
      "metadata": {
        "id": "CQN-GCyaTT_k"
      },
      "outputs": [],
      "source": [
        "from pyspark.sql.types import StructType, StructField, StringType, DoubleType, LongType\n",
        "\n",
        "schema = StructType([\n",
        "    StructField(\"beer/name\", StringType(), True),\n",
        "    StructField(\"beer/beerId\", StringType(), True),\n",
        "    StructField(\"beer/brewerId\", StringType(), True),\n",
        "    StructField(\"beer/ABV\", StringType(), True), # Keeping as StringType initially as it might contain non-numeric values\n",
        "    StructField(\"beer/style\", StringType(), True),\n",
        "    StructField(\"review/appearance\", StringType(), True), # Keeping as StringType initially\n",
        "    StructField(\"review/aroma\", StringType(), True), # Keeping as StringType initially\n",
        "    StructField(\"review/palate\", StringType(), True), # Keeping as StringType initially\n",
        "    StructField(\"review/taste\", StringType(), True), # Keeping as StringType initially\n",
        "    StructField(\"review/overall\", StringType(), True), # Keeping as StringType initially\n",
        "    StructField(\"review/time\", LongType(), True), # unix timestamp\n",
        "    StructField(\"review/profileName\", StringType(), True),\n",
        "    StructField(\"review/text\", StringType(), True)\n",
        "])"
      ]
    },
    {
      "cell_type": "code",
      "execution_count": null,
      "metadata": {
        "id": "lDabXI2GLfOi"
      },
      "outputs": [],
      "source": [
        "spark_df = spark.read.schema(schema).json('/content/beeradvocate.json')"
      ]
    },
    {
      "cell_type": "markdown",
      "metadata": {
        "id": "0PWjlDSvLqpn"
      },
      "source": [
        "PySpark Operations"
      ]
    },
    {
      "cell_type": "code",
      "execution_count": null,
      "metadata": {
        "colab": {
          "base_uri": "https://localhost:8080/"
        },
        "id": "TsleFgUiLpS1",
        "outputId": "269ab724-0b32-4aeb-d3fd-8f08a4810114"
      },
      "outputs": [
        {
          "output_type": "stream",
          "name": "stdout",
          "text": [
            "+--------------------+-----------+-------------+--------+--------------------+-----------------+------------+-------------+------------+--------------+-----------+------------------+--------------------+\n",
            "|           beer/name|beer/beerId|beer/brewerId|beer/ABV|          beer/style|review/appearance|review/aroma|review/palate|review/taste|review/overall|review/time|review/profileName|         review/text|\n",
            "+--------------------+-----------+-------------+--------+--------------------+-----------------+------------+-------------+------------+--------------+-----------+------------------+--------------------+\n",
            "|        Sausa Weizen|      47986|        10325|    5.00|          Hefeweizen|              2.5|           2|          1.5|         1.5|           1.5|       NULL|           stcules|A lot of foam. Bu...|\n",
            "|            Red Moon|      48213|        10325|    6.20|  English Strong Ale|                3|         2.5|            3|           3|             3|       NULL|           stcules|Dark red color, l...|\n",
            "|Black Horse Black...|      48215|        10325|    6.50|Foreign / Export ...|                3|         2.5|            3|           3|             3|       NULL|           stcules|Almost totally bl...|\n",
            "|          Sausa Pils|      47969|        10325|    5.00|     German Pilsener|              3.5|           3|          2.5|           3|             3|       NULL|           stcules|Golden yellow col...|\n",
            "|       Cauldron DIPA|      64883|         1075|    7.70|American Double /...|                4|         4.5|            4|         4.5|             4|       NULL|    johnmichaelsen|According to the ...|\n",
            "+--------------------+-----------+-------------+--------+--------------------+-----------------+------------+-------------+------------+--------------+-----------+------------------+--------------------+\n",
            "only showing top 5 rows\n",
            "\n"
          ]
        }
      ],
      "source": [
        "spark_df.show(5)"
      ]
    },
    {
      "cell_type": "code",
      "execution_count": null,
      "metadata": {
        "colab": {
          "base_uri": "https://localhost:8080/"
        },
        "id": "2rDMhREaOBeM",
        "outputId": "9110b9be-687b-4f06-dca9-b4d0cfc20944"
      },
      "outputs": [
        {
          "output_type": "stream",
          "name": "stdout",
          "text": [
            "root\n",
            " |-- beer/name: string (nullable = true)\n",
            " |-- beer/beerId: string (nullable = true)\n",
            " |-- beer/brewerId: string (nullable = true)\n",
            " |-- beer/ABV: string (nullable = true)\n",
            " |-- beer/style: string (nullable = true)\n",
            " |-- review/appearance: string (nullable = true)\n",
            " |-- review/aroma: string (nullable = true)\n",
            " |-- review/palate: string (nullable = true)\n",
            " |-- review/taste: string (nullable = true)\n",
            " |-- review/overall: string (nullable = true)\n",
            " |-- review/time: long (nullable = true)\n",
            " |-- review/profileName: string (nullable = true)\n",
            " |-- review/text: string (nullable = true)\n",
            "\n"
          ]
        }
      ],
      "source": [
        "spark_df.printSchema()"
      ]
    },
    {
      "cell_type": "code",
      "execution_count": null,
      "metadata": {
        "colab": {
          "base_uri": "https://localhost:8080/"
        },
        "id": "xyOKqIIZPSHl",
        "outputId": "16cad5e4-2991-4ace-af1f-44da758e9aaa"
      },
      "outputs": [
        {
          "output_type": "stream",
          "name": "stdout",
          "text": [
            "+-------+------------------------+-----------------+-----------------+------------------+----------+------------------+------------------+------------------+------------------+------------------+-----------+--------------------+--------------------+\n",
            "|summary|               beer/name|      beer/beerId|    beer/brewerId|          beer/ABV|beer/style| review/appearance|      review/aroma|     review/palate|      review/taste|    review/overall|review/time|  review/profileName|         review/text|\n",
            "+-------+------------------------+-----------------+-----------------+------------------+----------+------------------+------------------+------------------+------------------+------------------+-----------+--------------------+--------------------+\n",
            "|  count|                 1585815|          1585815|          1585815|           1585815|   1585815|           1585815|           1585815|           1585815|           1585815|           1585815|          0|             1585815|             1585815|\n",
            "|   mean|       2684.936936936937|21709.65004240722|3128.492119824822| 7.043007719634031|      NULL|3.8417463575511643| 3.735757638816634|  3.74380933463235|3.7929638703127413| 3.815649366414115|       NULL|4.8875126087603307E8|                NULL|\n",
            "| stddev|      12877.219938886063|21820.19951670945|5577.585496577511|2.3226302264905834|      NULL|0.6160603282507298|0.6976025327737635|0.6821791268432528| 0.731948090756881|0.7205777451524443|       NULL| 5.370061777898421E9|                NULL|\n",
            "|    min|             ! (Old Ale)|               10|                1|                  |   Altbier|                 0|                 1|                 1|                 1|                 0|       NULL|                    |                    |\n",
            "|    max|葉山ビール (Hayama Beer)|             9998|             9996|              9.99|   Witbier|                 5|                 5|                 5|                 5|                 5|       NULL|            zzajjber|~~This is 9% abv,...|\n",
            "+-------+------------------------+-----------------+-----------------+------------------+----------+------------------+------------------+------------------+------------------+------------------+-----------+--------------------+--------------------+\n",
            "\n"
          ]
        }
      ],
      "source": [
        "spark_df.describe().show()"
      ]
    },
    {
      "cell_type": "code",
      "execution_count": null,
      "metadata": {
        "colab": {
          "base_uri": "https://localhost:8080/"
        },
        "id": "-g1g4fboPbBu",
        "outputId": "fd4cfb62-14a0-4db3-c1a6-f1ec58ce435f"
      },
      "outputs": [
        {
          "output_type": "stream",
          "name": "stdout",
          "text": [
            "+------------+------+\n",
            "|review/taste| count|\n",
            "+------------+------+\n",
            "|           3|166726|\n",
            "|         4.5|336045|\n",
            "|        NULL|   800|\n",
            "|         2.5| 66488|\n",
            "|           5| 83956|\n",
            "|         3.5|324332|\n",
            "|         1.5| 15115|\n",
            "|           1|  9984|\n",
            "|           4|541201|\n",
            "|           2| 41968|\n",
            "+------------+------+\n",
            "\n"
          ]
        }
      ],
      "source": [
        "spark_df.groupby('review/taste').count().show()"
      ]
    },
    {
      "cell_type": "markdown",
      "source": [
        "[PySpark documentation](https://spark.apache.org/docs/latest/api/python/index.html)"
      ],
      "metadata": {
        "id": "4PFAZQl2VP9V"
      }
    },
    {
      "cell_type": "markdown",
      "source": [
        "Additional resource"
      ],
      "metadata": {
        "id": "SZ69JB3pWxB1"
      }
    },
    {
      "cell_type": "markdown",
      "source": [
        "A Guide to Spark SQL: Querying Big Data with SQL-Like Syntax\n",
        "Apache Spark SQL is one of the very strong modules of Apache Spark, supporting the execution of SQL queries on huge datasets. Using SQL syntax similar to older versions, Spark SQL allows analysts, scientists, and engineers to handle data transformations, aggregation, and manipulations in a more fluid manner within the framework of Spark. This tutorial will walk through the basic requirements of Spark SQL, starting with the creation of a Spark SQL session and continuing through the execution of several commonly used operations. Code is shown for each step to help you easily learn on your own.\n",
        "\n",
        "Introduction to Spark SQL\n",
        "Spark SQL is used to execute SQL queries over structured data inside of Spark. Among other fine features, it provides a consistent interface for various data manipulation and querying formats, be it JSON, Parquet, ORC, and many more. Catalyst Optimizer is one of the key advantages of Spark SQL which, in turn makes query executions much faster - really helpful when executed on large data sets."
      ],
      "metadata": {
        "id": "zWFWYaelfZhS"
      }
    },
    {
      "cell_type": "code",
      "source": [
        "from google.colab import drive\n",
        "drive.mount('/mntDrive') #, force_remount=True)"
      ],
      "metadata": {
        "colab": {
          "base_uri": "https://localhost:8080/"
        },
        "id": "eY5VV7U6ZpTI",
        "outputId": "c64c5f90-4071-498f-911c-6dfdbf92acb2"
      },
      "execution_count": null,
      "outputs": [
        {
          "output_type": "stream",
          "name": "stdout",
          "text": [
            "Mounted at /mntDrive\n"
          ]
        }
      ]
    },
    {
      "cell_type": "markdown",
      "source": [
        "Setting Up a Spark SQL Session\n",
        "Before running any queries, we need to set up a Spark session, which is the entry point for any Spark functionality."
      ],
      "metadata": {
        "id": "NZTKbAnNflPY"
      }
    },
    {
      "cell_type": "code",
      "source": [
        "from pyspark.sql import SparkSession\n",
        "# Initialize Spark session\n",
        "spark_example = SparkSession.builder.appName(\"Spark SQL Example\").getOrCreate()"
      ],
      "metadata": {
        "id": "ibDMHiEmV-B5"
      },
      "execution_count": null,
      "outputs": []
    },
    {
      "cell_type": "code",
      "source": [
        "spark_example"
      ],
      "metadata": {
        "colab": {
          "base_uri": "https://localhost:8080/",
          "height": 219
        },
        "id": "EUniMWtBXBZB",
        "outputId": "4caa40f2-f893-4224-ac3e-79e4cbb07730"
      },
      "execution_count": null,
      "outputs": [
        {
          "output_type": "execute_result",
          "data": {
            "text/plain": [
              "<pyspark.sql.session.SparkSession at 0x7a2198ca8ce0>"
            ],
            "text/html": [
              "\n",
              "            <div>\n",
              "                <p><b>SparkSession - in-memory</b></p>\n",
              "                \n",
              "        <div>\n",
              "            <p><b>SparkContext</b></p>\n",
              "\n",
              "            <p><a href=\"http://d6282bff55a2:4040\">Spark UI</a></p>\n",
              "\n",
              "            <dl>\n",
              "              <dt>Version</dt>\n",
              "                <dd><code>v3.5.1</code></dd>\n",
              "              <dt>Master</dt>\n",
              "                <dd><code>local[*]</code></dd>\n",
              "              <dt>AppName</dt>\n",
              "                <dd><code>Spark SQL Example</code></dd>\n",
              "            </dl>\n",
              "        </div>\n",
              "        \n",
              "            </div>\n",
              "        "
            ]
          },
          "metadata": {},
          "execution_count": 4
        }
      ]
    },
    {
      "cell_type": "markdown",
      "source": [
        "Working with DataFrames and Temporary Views"
      ],
      "metadata": {
        "id": "5qTET10KXGhK"
      }
    },
    {
      "cell_type": "code",
      "source": [
        "# Create database tables from CSV files\n",
        "# Remove spaces from column names in NYC-BikeShare-2015-2017-combined-Copy.csv\n",
        "# Upload to google drive and rename to Dataset then copy the path and paste below\n",
        "bike_share_path = \"/mntDrive/MyDrive/DataEngineering245-2025/NYC-BikeShare-2015-2017-combined-Copy.csv\"\n",
        "bike_specs_path = \"/mntDrive/MyDrive/DataEngineering245-2025/bikespecs.csv\"\n",
        "maker_details_path = \"/mntDrive/MyDrive/DataEngineering245-2025/makerdetails.csv\"\n",
        "#df = pd.read_csv(path, encoding='unicode_escape', index_col=0)"
      ],
      "metadata": {
        "id": "-Kx3h3AkZ9tk"
      },
      "execution_count": null,
      "outputs": []
    },
    {
      "cell_type": "code",
      "source": [
        "# Load data into a DataFrame\n",
        "bike_share_df = spark_example.read.csv(bike_share_path, header=True, inferSchema=True)\n",
        "bike_specs_df = spark_example.read.csv(bike_specs_path, header=True, inferSchema=True)\n",
        "maker_details_df = spark_example.read.csv(maker_details_path, header=True, inferSchema=True)\n"
      ],
      "metadata": {
        "id": "lmZ7n_cRXH8T"
      },
      "execution_count": null,
      "outputs": []
    },
    {
      "cell_type": "markdown",
      "source": [
        "SQL temporary views are virtual tables that exist only for the duration of a specific database session. They provide a way to simplify complex queries and can be useful for organizing and manipulating data without creating permanent objects."
      ],
      "metadata": {
        "id": "xuLwaAMOmNUt"
      }
    },
    {
      "cell_type": "code",
      "source": [
        "# Register DataFrame as a SQL temporary view\n",
        "bike_share_df.createOrReplaceTempView(\"bike_share\")\n",
        "bike_specs_df.createOrReplaceTempView(\"bike_specs\")\n",
        "maker_details_df.createOrReplaceTempView(\"maker_details\")"
      ],
      "metadata": {
        "id": "mBvdgEiYccA1"
      },
      "execution_count": null,
      "outputs": []
    },
    {
      "cell_type": "code",
      "source": [
        "bike_share_df.show(5)"
      ],
      "metadata": {
        "colab": {
          "base_uri": "https://localhost:8080/"
        },
        "id": "6zFjgjnLcyJm",
        "outputId": "c977181e-7f4b-4cf3-fc55-da74f05e860d"
      },
      "execution_count": null,
      "outputs": [
        {
          "output_type": "stream",
          "name": "stdout",
          "text": [
            "+---+------------+-------------------+-------------------+--------------+----------------+--------------------+---------------------+------------+------------------+------------------+-------------------+------+----------+---------+------+--------------------+\n",
            "|_c0|TripDuration|          StartTime|           StopTime|StartStationID|StartStationName|StartStationLatitude|StartStationLongitude|EndStationID|    EndStationName|EndStationLatitude|EndStationLongitude|BikeID|  UserType|BirthYear|Gender|Trip_Duration_in_min|\n",
            "+---+------------+-------------------+-------------------+--------------+----------------+--------------------+---------------------+------------+------------------+------------------+-------------------+------+----------+---------+------+--------------------+\n",
            "|  0|         376|2015-10-01 00:16:26|2015-10-01 00:22:42|          3212| Christ Hospital|        40.734785818|        -74.050443636|        3207|       Oakland Ave|        40.7376037| -74.05247829999999| 24470|Subscriber|   1960.0|     1|                   6|\n",
            "|  1|         739|2015-10-01 00:27:12|2015-10-01 00:39:32|          3207|     Oakland Ave|          40.7376037|   -74.05247829999999|        3212|   Christ Hospital|      40.734785818|      -74.050443636| 24481|Subscriber|   1960.0|     1|                  12|\n",
            "|  2|        2714|2015-10-01 00:32:46|2015-10-01 01:18:01|          3193|    Lincoln Park|    40.7246050998869|   -74.07840594649316|        3193|      Lincoln Park|  40.7246050998869| -74.07840594649316| 24628|Subscriber|   1983.0|     1|                  45|\n",
            "|  3|         275|2015-10-01 00:34:31|2015-10-01 00:39:06|          3199|    Newport Pkwy|  40.728744799999994|   -74.03210820000001|        3187|         Warren St|40.721123600000006|       -74.03805095| 24613|Subscriber|   1975.0|     1|                   5|\n",
            "|  4|         561|2015-10-01 00:40:12|2015-10-01 00:49:33|          3183|  Exchange Place|          40.7162469|          -74.0334588|        3192|Liberty Light Rail|40.711242299999995|        -74.0557013| 24668|  Customer|   1984.0|     0|                   9|\n",
            "+---+------------+-------------------+-------------------+--------------+----------------+--------------------+---------------------+------------+------------------+------------------+-------------------+------+----------+---------+------+--------------------+\n",
            "only showing top 5 rows\n",
            "\n"
          ]
        }
      ]
    },
    {
      "cell_type": "code",
      "source": [
        "bike_specs_df.show(5)"
      ],
      "metadata": {
        "colab": {
          "base_uri": "https://localhost:8080/"
        },
        "id": "WMnRnnZNdB9M",
        "outputId": "f790bb56-0d4f-48dc-85f7-6345e39aee28"
      },
      "execution_count": null,
      "outputs": [
        {
          "output_type": "stream",
          "name": "stdout",
          "text": [
            "+---+------------+-------------------+-------------------+--------------+----------------+--------------------+---------------------+------------+------------------+------------------+-------------------+------+----------+---------+------+--------------------+\n",
            "|_c0|TripDuration|          StartTime|           StopTime|StartStationID|StartStationName|StartStationLatitude|StartStationLongitude|EndStationID|    EndStationName|EndStationLatitude|EndStationLongitude|BikeID|  UserType|BirthYear|Gender|Trip_Duration_in_min|\n",
            "+---+------------+-------------------+-------------------+--------------+----------------+--------------------+---------------------+------------+------------------+------------------+-------------------+------+----------+---------+------+--------------------+\n",
            "|  0|         376|2015-10-01 00:16:26|2015-10-01 00:22:42|          3212| Christ Hospital|        40.734785818|        -74.050443636|        3207|       Oakland Ave|        40.7376037| -74.05247829999999| 24470|Subscriber|   1960.0|     1|                   6|\n",
            "|  1|         739|2015-10-01 00:27:12|2015-10-01 00:39:32|          3207|     Oakland Ave|          40.7376037|   -74.05247829999999|        3212|   Christ Hospital|      40.734785818|      -74.050443636| 24481|Subscriber|   1960.0|     1|                  12|\n",
            "|  2|        2714|2015-10-01 00:32:46|2015-10-01 01:18:01|          3193|    Lincoln Park|    40.7246050998869|   -74.07840594649316|        3193|      Lincoln Park|  40.7246050998869| -74.07840594649316| 24628|Subscriber|   1983.0|     1|                  45|\n",
            "|  3|         275|2015-10-01 00:34:31|2015-10-01 00:39:06|          3199|    Newport Pkwy|  40.728744799999994|   -74.03210820000001|        3187|         Warren St|40.721123600000006|       -74.03805095| 24613|Subscriber|   1975.0|     1|                   5|\n",
            "|  4|         561|2015-10-01 00:40:12|2015-10-01 00:49:33|          3183|  Exchange Place|          40.7162469|          -74.0334588|        3192|Liberty Light Rail|40.711242299999995|        -74.0557013| 24668|  Customer|   1984.0|     0|                   9|\n",
            "+---+------------+-------------------+-------------------+--------------+----------------+--------------------+---------------------+------------+------------------+------------------+-------------------+------+----------+---------+------+--------------------+\n",
            "only showing top 5 rows\n",
            "\n"
          ]
        }
      ]
    },
    {
      "cell_type": "code",
      "source": [
        "maker_details_df.show(5)"
      ],
      "metadata": {
        "colab": {
          "base_uri": "https://localhost:8080/"
        },
        "id": "U4b_NlXKer2b",
        "outputId": "7662478e-6179-4e49-8b3a-b960a2dc5d90"
      },
      "execution_count": null,
      "outputs": [
        {
          "output_type": "stream",
          "name": "stdout",
          "text": [
            "+---+------------+-------------------+-------------------+--------------+----------------+--------------------+---------------------+------------+------------------+------------------+-------------------+------+----------+---------+------+--------------------+\n",
            "|_c0|TripDuration|          StartTime|           StopTime|StartStationID|StartStationName|StartStationLatitude|StartStationLongitude|EndStationID|    EndStationName|EndStationLatitude|EndStationLongitude|BikeID|  UserType|BirthYear|Gender|Trip_Duration_in_min|\n",
            "+---+------------+-------------------+-------------------+--------------+----------------+--------------------+---------------------+------------+------------------+------------------+-------------------+------+----------+---------+------+--------------------+\n",
            "|  0|         376|2015-10-01 00:16:26|2015-10-01 00:22:42|          3212| Christ Hospital|        40.734785818|        -74.050443636|        3207|       Oakland Ave|        40.7376037| -74.05247829999999| 24470|Subscriber|   1960.0|     1|                   6|\n",
            "|  1|         739|2015-10-01 00:27:12|2015-10-01 00:39:32|          3207|     Oakland Ave|          40.7376037|   -74.05247829999999|        3212|   Christ Hospital|      40.734785818|      -74.050443636| 24481|Subscriber|   1960.0|     1|                  12|\n",
            "|  2|        2714|2015-10-01 00:32:46|2015-10-01 01:18:01|          3193|    Lincoln Park|    40.7246050998869|   -74.07840594649316|        3193|      Lincoln Park|  40.7246050998869| -74.07840594649316| 24628|Subscriber|   1983.0|     1|                  45|\n",
            "|  3|         275|2015-10-01 00:34:31|2015-10-01 00:39:06|          3199|    Newport Pkwy|  40.728744799999994|   -74.03210820000001|        3187|         Warren St|40.721123600000006|       -74.03805095| 24613|Subscriber|   1975.0|     1|                   5|\n",
            "|  4|         561|2015-10-01 00:40:12|2015-10-01 00:49:33|          3183|  Exchange Place|          40.7162469|          -74.0334588|        3192|Liberty Light Rail|40.711242299999995|        -74.0557013| 24668|  Customer|   1984.0|     0|                   9|\n",
            "+---+------------+-------------------+-------------------+--------------+----------------+--------------------+---------------------+------------+------------------+------------------+-------------------+------+----------+---------+------+--------------------+\n",
            "only showing top 5 rows\n",
            "\n"
          ]
        }
      ]
    },
    {
      "cell_type": "markdown",
      "source": [
        "1. Find the station names of the source (start) and destination (end) of all trips with a duration of LESS than 5 minutes. Sort this list in ascending order of source station name. What is the destination station name of the third trip in this sorted list?"
      ],
      "metadata": {
        "id": "0HcdEMkIis9p"
      }
    },
    {
      "cell_type": "code",
      "source": [
        "# Selecting specific columns\n",
        "result_df = spark_example.sql(\n",
        "\"\"\"SELECT StartStationName, EndStationName\n",
        "FROM bike_share\n",
        "WHERE Trip_Duration_in_min < 5\n",
        "ORDER BY StartStationName ASC\n",
        "limit 3;\"\"\")\n",
        "result_df.show()"
      ],
      "metadata": {
        "colab": {
          "base_uri": "https://localhost:8080/"
        },
        "id": "Bm304pDlhhGT",
        "outputId": "64e960a1-a11f-46d6-ad4a-73dea4a97bb4"
      },
      "execution_count": null,
      "outputs": [
        {
          "output_type": "stream",
          "name": "stdout",
          "text": [
            "+-----------------+--------------+\n",
            "| StartStationName|EndStationName|\n",
            "+-----------------+--------------+\n",
            "|5 Corners Library|       Sip Ave|\n",
            "|5 Corners Library|       Sip Ave|\n",
            "|5 Corners Library|       Sip Ave|\n",
            "+-----------------+--------------+\n",
            "\n"
          ]
        }
      ]
    },
    {
      "cell_type": "markdown",
      "source": [
        "2. Find the station names of the source (start) and trip duration in minutes of all trips with a duration of between 20 and 30 minutes (inclusive). Sort this list in descending order of trip duration. Where did the trip at the top of this sorted list start?"
      ],
      "metadata": {
        "id": "KAvKf48CjBEq"
      }
    },
    {
      "cell_type": "code",
      "source": [
        "\n",
        "result_df = spark_example.sql(\n",
        "\"\"\"SELECT StartStationName, Trip_Duration_in_min\n",
        "FROM bike_share\n",
        "WHERE Trip_Duration_in_min BETWEEN 20 AND 30\n",
        "ORDER BY Trip_Duration_in_min DESC\n",
        "limit 1;\"\"\")\n",
        "result_df.show()"
      ],
      "metadata": {
        "colab": {
          "base_uri": "https://localhost:8080/"
        },
        "id": "u7W3ZaoHjDkU",
        "outputId": "ce95106e-81d2-4520-c17b-517c0a40739a"
      },
      "execution_count": null,
      "outputs": [
        {
          "output_type": "stream",
          "name": "stdout",
          "text": [
            "+----------------+--------------------+\n",
            "|StartStationName|Trip_Duration_in_min|\n",
            "+----------------+--------------------+\n",
            "|  Van Vorst Park|                  30|\n",
            "+----------------+--------------------+\n",
            "\n"
          ]
        }
      ]
    },
    {
      "cell_type": "markdown",
      "source": [
        "3. How old (as of 1 January 2024) is the oldest male (gender of 0) person that rented a bike with Aluminum1 frame to stations with idS 3212 or 3190?"
      ],
      "metadata": {
        "id": "FQYzWnxZjllY"
      }
    },
    {
      "cell_type": "code",
      "source": [
        "\n",
        "result_df = spark_example.sql(\n",
        "\"\"\"SELECT MAX(2024 -BirthYear) as Oldest_Age FROM bike_share\n",
        "LEFT JOIN bike_specs\n",
        "ON bike_share.BikeID = bike_specs.bike_ID\n",
        "WHERE EndStationID IN (3212, 3190) AND frame_material = 'Aluminum' and Gender = 0\n",
        ";\"\"\")\n",
        "result_df.show()"
      ],
      "metadata": {
        "colab": {
          "base_uri": "https://localhost:8080/"
        },
        "id": "ehviofHEjnmJ",
        "outputId": "abd3c558-4514-402e-e454-22a0b894d628"
      },
      "execution_count": null,
      "outputs": [
        {
          "output_type": "stream",
          "name": "stdout",
          "text": [
            "+----------+\n",
            "|Oldest_Age|\n",
            "+----------+\n",
            "|      51.0|\n",
            "+----------+\n",
            "\n"
          ]
        }
      ]
    },
    {
      "cell_type": "markdown",
      "source": [
        "4. Which city has the highest average age of carbon bike manufacturers?"
      ],
      "metadata": {
        "id": "blslOX1TkTr1"
      }
    },
    {
      "cell_type": "code",
      "source": [
        "\n",
        "result_df = spark_example.sql(\n",
        "\"\"\"SELECT city, avg(2024-year_established) as Average_Age\n",
        "FROM maker_details\n",
        "LEFT JOIN bike_specs\n",
        "ON maker_details.maker_ID = bike_specs.manufacture_ID\n",
        "WHERE frame_material = 'Carbon'\n",
        "GROUP BY city\n",
        "ORDER BY Average_Age DESC\n",
        "LIMIT 1;\"\"\")\n",
        "result_df.show()"
      ],
      "metadata": {
        "colab": {
          "base_uri": "https://localhost:8080/"
        },
        "id": "kXDjR1sckW1f",
        "outputId": "ff76fd74-40fc-4039-f651-307e0d38bfda"
      },
      "execution_count": null,
      "outputs": [
        {
          "output_type": "stream",
          "name": "stdout",
          "text": [
            "+-----------+-----------------+\n",
            "|       city|      Average_Age|\n",
            "+-----------+-----------------+\n",
            "|Jersey City|37.06371681415929|\n",
            "+-----------+-----------------+\n",
            "\n"
          ]
        }
      ]
    },
    {
      "cell_type": "markdown",
      "source": [
        "5. How many bikes with shocks and less than 15 gears were rented by 30-year-old (as of 1 January 2024) customers?"
      ],
      "metadata": {
        "id": "TBPrDEkylBeE"
      }
    },
    {
      "cell_type": "code",
      "source": [
        "\n",
        "result_df = spark_example.sql(\n",
        "\"\"\"SELECT COUNT(*) AS NumOfBikes\n",
        "FROM bike_share\n",
        "LEFT JOIN bike_specs\n",
        "ON bike_share.BikeID = bike_specs.bike_ID\n",
        "WHERE shocks = 'yes'\n",
        "AND gear_count < 15\n",
        "AND (2024 - BirthYear) = 30;\n",
        "\"\"\")\n",
        "result_df.show()\n"
      ],
      "metadata": {
        "colab": {
          "base_uri": "https://localhost:8080/"
        },
        "id": "j76I-1-3lAnt",
        "outputId": "46dfd71b-4d1a-48f5-ffcd-440f7d020a18"
      },
      "execution_count": null,
      "outputs": [
        {
          "output_type": "stream",
          "name": "stdout",
          "text": [
            "+----------+\n",
            "|NumOfBikes|\n",
            "+----------+\n",
            "|       386|\n",
            "+----------+\n",
            "\n"
          ]
        }
      ]
    }
  ],
  "metadata": {
    "colab": {
      "provenance": [],
      "include_colab_link": true
    },
    "kernelspec": {
      "display_name": "Python 3",
      "name": "python3"
    },
    "language_info": {
      "name": "python"
    }
  },
  "nbformat": 4,
  "nbformat_minor": 0
}